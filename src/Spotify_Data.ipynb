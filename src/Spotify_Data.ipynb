{
  "nbformat": 4,
  "nbformat_minor": 0,
  "metadata": {
    "colab": {
      "provenance": []
    },
    "kernelspec": {
      "name": "python3",
      "display_name": "Python 3"
    },
    "language_info": {
      "name": "python"
    }
  },
  "cells": [
    {
      "cell_type": "markdown",
      "source": [
        "# Initialization & Imports\n",
        "This section initializes the Spotify client using the provided client ID and secret, which are necessary for accessing the Spotify API. These credentials allow secure communication with the Spotify servers.\n"
      ],
      "metadata": {
        "id": "Rxp-7geMGmWC"
      }
    },
    {
      "cell_type": "code",
      "source": [
        "import spotipy\n",
        "from spotipy.oauth2 import SpotifyClientCredentials\n",
        "import os\n",
        "import re\n",
        "import csv"
      ],
      "metadata": {
        "id": "tcXHYxZzFnAq"
      },
      "execution_count": null,
      "outputs": []
    },
    {
      "cell_type": "code",
      "source": [
        "#uses spotify api to get valence, energy, and genere of each song\n",
        "\n",
        "SPOTIFY_CLIENT_ID = 'INPUT_CLIENT_ID'\n",
        "SPOTIFY_CLIENT_SECRET = 'INPUT_CLIENT_SECRET'\n",
        "\n",
        "# Spotify client setup\n",
        "auth_manager = SpotifyClientCredentials(client_id=SPOTIFY_CLIENT_ID, client_secret=SPOTIFY_CLIENT_SECRET)\n",
        "spotify = spotipy.Spotify(auth_manager=auth_manager)"
      ],
      "metadata": {
        "id": "lVw7dK3pFpml"
      },
      "execution_count": null,
      "outputs": []
    },
    {
      "cell_type": "markdown",
      "source": [
        "# Cleaning Song Titles\n",
        "This function takes a song title as input and removes any content enclosed in parentheses or brackets, cleaning up the title for a more accurate search. This step ensures that extraneous information doesn't interfere with metadata retrieval."
      ],
      "metadata": {
        "id": "ZJEhO8mXGsXe"
      }
    },
    {
      "cell_type": "code",
      "source": [
        "def clean_song_title(song_title):\n",
        "    # Remove content in parentheses and brackets, and trim extra spaces\n",
        "    cleaned_title = re.sub(r\"[\\(\\[].*?[\\)\\]]\", \"\", song_title).strip()\n",
        "    return cleaned_title\n"
      ],
      "metadata": {
        "id": "qWyTgQQXFrSe"
      },
      "execution_count": null,
      "outputs": []
    },
    {
      "cell_type": "markdown",
      "source": [
        "# Get Spotify Genre\n",
        "This function searches Spotify's database for the specified song and retrieves its genre. It constructs a query using the song's title and optionally its artist's name. After retrieving the track data, it fetches and returns the artist's associated genres.\n"
      ],
      "metadata": {
        "id": "OMkF4S2qG4yM"
      }
    },
    {
      "cell_type": "code",
      "source": [
        "# Function to get Spotify genre metadata\n",
        "def get_spotify_genre(track_name, artist_name=None):\n",
        "    query = f\"track:{track_name}\"\n",
        "    if artist_name:\n",
        "        query += f\" artist:{artist_name}\"\n",
        "\n",
        "    # Search for the track\n",
        "    result = spotify.search(query, type='track', limit=1)\n",
        "\n",
        "    if result['tracks']['items']:\n",
        "        track = result['tracks']['items'][0]\n",
        "\n",
        "        # Get the artist's information, which may include genres\n",
        "        artist_id = track['artists'][0]['id']\n",
        "        artist_info = spotify.artist(artist_id)\n",
        "\n",
        "        genres = artist_info.get('genres', [])\n",
        "\n",
        "        return genres\n",
        "\n",
        "    return None"
      ],
      "metadata": {
        "id": "O-y_wpWZFsch"
      },
      "execution_count": null,
      "outputs": []
    },
    {
      "cell_type": "markdown",
      "source": [
        "# Obtain Valence\n",
        "This function searches for a song and retrieves its valence, which measures the song's mood. The query is constructed similarly to the previous function. After retrieving the track's data, it returns the valence value."
      ],
      "metadata": {
        "id": "H9zhV3cEG-AV"
      }
    },
    {
      "cell_type": "code",
      "source": [
        "# Path to your spectrograms\n",
        "audio_spect_dir = \"/content/audio_spects_2\"\n",
        "\n",
        "# Loop through the files and rename with Spotify genre metadata\n",
        "def get_spotify_valence(song_title, artist_name=None):\n",
        "    # Create the query with the correct order of song title and artist name\n",
        "    query = f\"track:{song_title}\"\n",
        "    if artist_name:\n",
        "        query += f\" artist:{artist_name}\"\n",
        "\n",
        "    # Search for the track\n",
        "    result = spotify.search(query, type='track', limit=1)\n",
        "\n",
        "    if result['tracks']['items']:\n",
        "        track = result['tracks']['items'][0]\n",
        "\n",
        "        # Get audio features, including valence\n",
        "        audio_features = spotify.audio_features(track['id'])[0]\n",
        "\n",
        "        return audio_features.get('valence', None)  # Return the valence, or None if not found\n",
        "\n",
        "    return None"
      ],
      "metadata": {
        "id": "MxS_OauoFvkR"
      },
      "execution_count": null,
      "outputs": []
    },
    {
      "cell_type": "markdown",
      "source": [
        "# Obtain Energy\n",
        "This function retrieves a song's energy value, representing its dynamism or liveliness. The function uses a similar query pattern to previous functions. The energy value is then extracted from the track's metadata and returned."
      ],
      "metadata": {
        "id": "ERVY1ki6HFIX"
      }
    },
    {
      "cell_type": "code",
      "source": [
        "# Path to your spectrograms\n",
        "audio_spect_dir = \"/content/audio_spects_2\"\n",
        "\n",
        "def get_spotify_energy(song_title, artist_name=None):\n",
        "    query = f\"track:{song_title}\"\n",
        "    if artist_name:\n",
        "        query += f\" artist:{artist_name}\"\n",
        "\n",
        "    # Search for the track\n",
        "    result = spotify.search(query, type='track', limit=1)\n",
        "\n",
        "    if result['tracks']['items']:\n",
        "        track = result['tracks']['items'][0]\n",
        "\n",
        "        # Get audio features, including energy\n",
        "        audio_features = spotify.audio_features(track['id'])[0]\n",
        "\n",
        "        return audio_features.get('energy', None)  # Return the energy\n",
        "\n",
        "    return None"
      ],
      "metadata": {
        "id": "pw64YJw6F2vq"
      },
      "execution_count": null,
      "outputs": []
    },
    {
      "cell_type": "markdown",
      "source": [
        "# Main Loop\n",
        "This section defines the directory where spectrogram images of songs are stored. It then creates an output CSV file to store Spotify metadata for each song.The script iterates over each PNG file in the directory. For each file:\n",
        "\n",
        "* The artist name and song title are extracted from the file name.\n",
        "* The song title is cleaned.\n",
        "* The Spotify API is used to retrieve valence, genre, and energy values.\n",
        "\n",
        "If all metadata is retrieved successfully, it's written into the CSV file. The metadata is also printed for each song."
      ],
      "metadata": {
        "id": "dBuadwyrHLw5"
      }
    },
    {
      "cell_type": "code",
      "execution_count": null,
      "metadata": {
        "id": "yRI-_okxFheS"
      },
      "outputs": [],
      "source": [
        "count = 0\n",
        "# CSV output file\n",
        "output_csv = \"spotify_metadata.csv\"\n",
        "\n",
        "\n",
        "#for songs with valid spotify metadata, we save them to a csv to label each spectrogram\n",
        "# Open the CSV file for writing\n",
        "with open(output_csv, mode='w', newline='', encoding='utf-8') as file:\n",
        "    writer = csv.writer(file)\n",
        "    # Write the header row\n",
        "    writer.writerow([\"Title\", \"Valence\", \"Genre\", \"Energy\"])\n",
        "\n",
        "    for file_name in os.listdir(audio_spect_dir):\n",
        "        if file_name.lower().endswith('.png'):  # Considering these are image files\n",
        "            # Extract artist name and song title from the file name\n",
        "            base_name = os.path.splitext(file_name)[0]\n",
        "            artist_name, _, song_title = base_name.partition(\" - \")\n",
        "\n",
        "            # Clean the song title\n",
        "            song_title = clean_song_title(song_title)\n",
        "\n",
        "            # Initialize variables to hold Spotify data\n",
        "            valence = None\n",
        "            genre = None\n",
        "            energy = None\n",
        "\n",
        "            # Attempt to get Spotify valence, genre, and energy with error handling\n",
        "            try:\n",
        "                valence = get_spotify_valence(song_title.strip(), artist_name.strip())\n",
        "                genre = get_spotify_genre(song_title.strip(), artist_name.strip())\n",
        "                energy = get_spotify_energy(song_title.strip(), artist_name.strip())\n",
        "            except Exception as e:\n",
        "                print(f\"Error fetching data for '{song_title}': {e}\")\n",
        "                continue  # Skip to the next file if there's an error\n",
        "\n",
        "            # Write to CSV if all metadata is present\n",
        "            if valence is not None and genre and energy is not None:\n",
        "                writer.writerow([base_name, valence, genre[0] if genre else None, energy])  # Genre is assumed to be a list\n",
        "\n",
        "            # Print the metadata\n",
        "            print(f\"Song: '{song_title}' by '{artist_name}'\")\n",
        "            if valence is not None: print(f\"Valence: {valence:.2f}\")\n",
        "            if energy is not None: print(f\"Energy: {energy:.2f}\")\n",
        "            if genre: print(f\"Genre: {genre[0]}\")  # Assumes genre returns a list\n",
        "\n",
        "            count += 1 if valence is not None and energy is not None and genre else 0\n",
        "            print(f\"Metadata retrieval count: {count}\")\n",
        "            print(\"-\" * 30)"
      ]
    }
  ]
}
