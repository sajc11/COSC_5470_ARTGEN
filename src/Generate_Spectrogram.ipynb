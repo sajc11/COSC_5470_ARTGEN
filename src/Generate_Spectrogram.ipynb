{
  "nbformat": 4,
  "nbformat_minor": 0,
  "metadata": {
    "colab": {
      "provenance": []
    },
    "kernelspec": {
      "name": "python3",
      "display_name": "Python 3"
    },
    "language_info": {
      "name": "python"
    }
  },
  "cells": [
    {
      "cell_type": "markdown",
      "source": [
        "# Imports\n",
        "Import all needed libraries"
      ],
      "metadata": {
        "id": "AO_FK8qTFDZZ"
      }
    },
    {
      "cell_type": "code",
      "source": [
        "import os\n",
        "import librosa\n",
        "import matplotlib.pyplot as plt\n",
        "import random"
      ],
      "metadata": {
        "id": "KZCsMZV8FHIR"
      },
      "execution_count": null,
      "outputs": []
    },
    {
      "cell_type": "markdown",
      "source": [
        "# Function to Generatepectogram\n",
        "Function to generate the spectrogram.\n"
      ],
      "metadata": {
        "id": "VCzAS_EaFL5w"
      }
    },
    {
      "cell_type": "code",
      "execution_count": null,
      "metadata": {
        "id": "FCQSACSAEzmF"
      },
      "outputs": [],
      "source": [
        "def generate_spectrogram(y, sr, n_fft, hop_length, window):\n",
        "    D = librosa.stft(y, n_fft=n_fft, hop_length=hop_length, window=window)\n",
        "    S_db = librosa.amplitude_to_db(np.abs(D), ref=np.max)\n",
        "\n",
        "    plt.figure(figsize=(12, 8))\n",
        "    librosa.display.specshow(S_db, sr=sr, hop_length=hop_length, x_axis='time', y_axis='log', cmap='viridis')\n",
        "    plt.colorbar(format='%+2.0f dB')\n",
        "    plt.title('Spectrogram')\n",
        "    #plt.show()\n",
        "    return plt\n"
      ]
    },
    {
      "cell_type": "markdown",
      "source": [
        "# Selecting Samples\n",
        "selects randomg samples from the song, and sets the naming conventions for the outputted spectrograms.\n"
      ],
      "metadata": {
        "id": "bSJ-9sTLE7k-"
      }
    },
    {
      "cell_type": "code",
      "source": [
        "\n",
        "# Define the source and output directories\n",
        "source_dir = \"/content/music_files\"  # Change this to your directory in Colab\n",
        "output_dir = \"/content/audio_spects_2\"  # Directory to save spectrograms\n",
        "\n",
        "# Ensure the output directory exists\n",
        "if not os.path.exists(output_dir):\n",
        "    os.makedirs(output_dir)\n",
        "\n",
        "# Define STFT parameters\n",
        "n_fft = 1024  # Number of FFT points, affects frequency resolution\n",
        "hop_length = 256  # Hop length, affects time resolution\n",
        "window = 'hann'  # Window type\n",
        "\n",
        "for file_name in os.listdir(source_dir):\n",
        "    if file_name.lower().endswith(('.wav', '.mp3', '.flac', '.ogg')):\n",
        "        spectrogram_name = f\"{os.path.splitext(file_name)[0]}.png\"\n",
        "        output_path = os.path.join(output_dir, spectrogram_name)\n",
        "\n",
        "        # Check if the spectrogram already exists\n",
        "        if os.path.exists(output_path):\n",
        "            print(f\"Spectrogram already exists at {output_path}. Skipping...\")\n",
        "            continue\n",
        "\n",
        "        file_path = os.path.join(source_dir, file_name)  # Full path to the audio file\n",
        "\n",
        "        try:\n",
        "            # Load the entire audio file\n",
        "            y, sr = librosa.load(file_path, sr=None)\n",
        "\n",
        "            # Ensure the audio is at least 30 seconds long\n",
        "            if len(y) / sr >= 30:\n",
        "                # Randomly select a 30-second segment\n",
        "                total_duration = len(y) / sr\n",
        "                start_time = random.uniform(0, total_duration - 30)\n",
        "                end_time = start_time + 30\n",
        "\n",
        "                # Slice the segment from the full audio\n",
        "                start_sample = int(start_time * sr)\n",
        "                end_sample = int(end_time * sr)\n",
        "                y_segment = y[start_sample:end_sample]\n",
        "\n",
        "                # Generate the spectrogram for the segment\n",
        "                plt = generate_spectrogram(y_segment, sr, n_fft, hop_length, window)\n",
        "\n",
        "                # Save the spectrogram\n",
        "                plt.savefig(output_path)\n",
        "                plt.close()\n",
        "\n",
        "                print(f\"Spectrogram saved at {output_path}\")\n",
        "\n",
        "        except Exception as e:\n",
        "            print(f\"Failed to process {file_name}: {e}\")"
      ],
      "metadata": {
        "id": "muRVDAI9FJ5X"
      },
      "execution_count": null,
      "outputs": []
    }
  ]
}